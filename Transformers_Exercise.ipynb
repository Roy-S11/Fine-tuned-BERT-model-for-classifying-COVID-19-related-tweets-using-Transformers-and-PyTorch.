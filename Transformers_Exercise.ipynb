{
  "cells": [
    {
      "cell_type": "markdown",
      "metadata": {
        "id": "ij6oyWf5v0Yf"
      },
      "source": [
        "# Problem Statement:  Social Media Monitoring for COVID-19 Insights using BERT"
      ]
    },
    {
      "cell_type": "markdown",
      "metadata": {
        "id": "6EvRmT5FwULP"
      },
      "source": [
        "\n",
        "\n",
        "---\n",
        "\n"
      ]
    },
    {
      "cell_type": "markdown",
      "metadata": {
        "id": "sbmeJcDWuCHn"
      },
      "source": [
        "Imports and CUDA"
      ]
    },
    {
      "cell_type": "code",
      "execution_count": 2,
      "metadata": {
        "colab": {
          "base_uri": "https://localhost:8080/"
        },
        "id": "faxxMOzMMa5O",
        "outputId": "01bcdc16-8413-4bc2-d60e-2f0b993ccfb1"
      },
      "outputs": [
        {
          "name": "stderr",
          "output_type": "stream",
          "text": [
            "d:\\Data\\udemy_python\\venvp\\Lib\\site-packages\\tqdm\\auto.py:21: TqdmWarning: IProgress not found. Please update jupyter and ipywidgets. See https://ipywidgets.readthedocs.io/en/stable/user_install.html\n",
            "  from .autonotebook import tqdm as notebook_tqdm\n"
          ]
        },
        {
          "name": "stdout",
          "output_type": "stream",
          "text": [
            "Using device: cuda\n"
          ]
        }
      ],
      "source": [
        "import torch\n",
        "import numpy as np\n",
        "import torch.nn as nn\n",
        "import torch.optim as optim\n",
        "from torch.utils.data import DataLoader, Dataset, TensorDataset, random_split\n",
        "from torchvision import datasets, transforms\n",
        "from sklearn.metrics import accuracy_score, confusion_matrix\n",
        "from sklearn.model_selection import train_test_split\n",
        "import matplotlib.pyplot as plt\n",
        "import pandas as pd\n",
        "import random\n",
        "from tqdm.notebook import tqdm\n",
        "from transformers import BertForSequenceClassification\n",
        "from transformers import AutoTokenizer\n",
        "\n",
        "# Check if CUDA (GPU) is available\n",
        "device = torch.device('cuda' if torch.cuda.is_available() else 'cpu')\n",
        "print(f\"Using device: {device}\")"
      ]
    },
    {
      "cell_type": "markdown",
      "metadata": {
        "id": "1-J7ECFzwVpH"
      },
      "source": [
        "##  Step1: Dataset Overview"
      ]
    },
    {
      "cell_type": "code",
      "execution_count": 3,
      "metadata": {
        "id": "IspKKeW0MpRw"
      },
      "outputs": [
        {
          "data": {
            "text/html": [
              "<div>\n",
              "<style scoped>\n",
              "    .dataframe tbody tr th:only-of-type {\n",
              "        vertical-align: middle;\n",
              "    }\n",
              "\n",
              "    .dataframe tbody tr th {\n",
              "        vertical-align: top;\n",
              "    }\n",
              "\n",
              "    .dataframe thead th {\n",
              "        text-align: right;\n",
              "    }\n",
              "</style>\n",
              "<table border=\"1\" class=\"dataframe\">\n",
              "  <thead>\n",
              "    <tr style=\"text-align: right;\">\n",
              "      <th></th>\n",
              "      <th>ID</th>\n",
              "      <th>text</th>\n",
              "      <th>target</th>\n",
              "    </tr>\n",
              "  </thead>\n",
              "  <tbody>\n",
              "    <tr>\n",
              "      <th>0</th>\n",
              "      <td>train_0</td>\n",
              "      <td>The bitcoin halving is cancelled due to</td>\n",
              "      <td>1</td>\n",
              "    </tr>\n",
              "    <tr>\n",
              "      <th>1</th>\n",
              "      <td>train_1</td>\n",
              "      <td>MercyOfAllah In good times wrapped in its gran...</td>\n",
              "      <td>0</td>\n",
              "    </tr>\n",
              "    <tr>\n",
              "      <th>2</th>\n",
              "      <td>train_2</td>\n",
              "      <td>266 Days No Digital India No Murder of e learn...</td>\n",
              "      <td>1</td>\n",
              "    </tr>\n",
              "    <tr>\n",
              "      <th>3</th>\n",
              "      <td>train_3</td>\n",
              "      <td>India is likely to run out of the remaining RN...</td>\n",
              "      <td>1</td>\n",
              "    </tr>\n",
              "    <tr>\n",
              "      <th>4</th>\n",
              "      <td>train_4</td>\n",
              "      <td>In these tough times the best way to grow is t...</td>\n",
              "      <td>0</td>\n",
              "    </tr>\n",
              "  </tbody>\n",
              "</table>\n",
              "</div>"
            ],
            "text/plain": [
              "        ID                                               text  target\n",
              "0  train_0            The bitcoin halving is cancelled due to       1\n",
              "1  train_1  MercyOfAllah In good times wrapped in its gran...       0\n",
              "2  train_2  266 Days No Digital India No Murder of e learn...       1\n",
              "3  train_3  India is likely to run out of the remaining RN...       1\n",
              "4  train_4  In these tough times the best way to grow is t...       0"
            ]
          },
          "execution_count": 3,
          "metadata": {},
          "output_type": "execute_result"
        }
      ],
      "source": [
        "data = pd.read_csv('covid_twitter_dataset_codebasics_DL.csv')\n",
        "data.head(5)"
      ]
    },
    {
      "cell_type": "code",
      "execution_count": 4,
      "metadata": {
        "id": "1W_rVH5qw_fY"
      },
      "outputs": [
        {
          "name": "stdout",
          "output_type": "stream",
          "text": [
            "<class 'pandas.core.frame.DataFrame'>\n",
            "RangeIndex: 5287 entries, 0 to 5286\n",
            "Data columns (total 3 columns):\n",
            " #   Column  Non-Null Count  Dtype \n",
            "---  ------  --------------  ----- \n",
            " 0   ID      5287 non-null   object\n",
            " 1   text    5287 non-null   object\n",
            " 2   target  5287 non-null   int64 \n",
            "dtypes: int64(1), object(2)\n",
            "memory usage: 124.0+ KB\n"
          ]
        },
        {
          "data": {
            "text/plain": [
              "target\n",
              "0    2746\n",
              "1    2541\n",
              "Name: count, dtype: int64"
            ]
          },
          "execution_count": 4,
          "metadata": {},
          "output_type": "execute_result"
        }
      ],
      "source": [
        "data.info()\n",
        "data.target.value_counts()"
      ]
    },
    {
      "cell_type": "markdown",
      "metadata": {
        "id": "DA54uIDayjAC"
      },
      "source": [
        "\n",
        "\n",
        "---\n",
        "\n"
      ]
    },
    {
      "cell_type": "markdown",
      "metadata": {
        "id": "jxju6d9xxpai"
      },
      "source": [
        "**Step2:** Split the dataset\n",
        "\n",
        "* Train:Test :: 70:30"
      ]
    },
    {
      "cell_type": "markdown",
      "metadata": {
        "id": "-4jxmEQZyj8H"
      },
      "source": [
        "\n",
        "\n",
        "---\n",
        "\n"
      ]
    },
    {
      "cell_type": "code",
      "execution_count": 5,
      "metadata": {
        "id": "RjHDhskFM2Tk"
      },
      "outputs": [],
      "source": [
        "train_X, test_X, train_Y, test_Y = train_test_split( data['text'], data['target'], train_size=0.7, random_state=42)"
      ]
    },
    {
      "cell_type": "markdown",
      "metadata": {
        "id": "xeR071x6yxY9"
      },
      "source": [
        "**Step3:** Tokenization\n",
        "\n",
        "* The AutoTokenizer from the Hugging Face library is used to load the pre-trained BERT tokenizer (bert-base-cased).\n"
      ]
    },
    {
      "cell_type": "code",
      "execution_count": 6,
      "metadata": {
        "id": "JnG8WHNENEgf"
      },
      "outputs": [],
      "source": [
        "tokenizer = AutoTokenizer.from_pretrained(\"bert-base-cased\")\n"
      ]
    },
    {
      "cell_type": "code",
      "execution_count": 7,
      "metadata": {
        "id": "TXVgSTHqNX_c"
      },
      "outputs": [],
      "source": [
        "train_tokens = tokenizer(list(train_X), padding = True, truncation=True)\n",
        "test_tokens = tokenizer(list(test_X), padding = True, truncation=True)"
      ]
    },
    {
      "cell_type": "code",
      "execution_count": 8,
      "metadata": {
        "id": "i-W2a_y9Nj6d"
      },
      "outputs": [
        {
          "data": {
            "text/plain": [
              "dict_keys(['input_ids', 'token_type_ids', 'attention_mask'])"
            ]
          },
          "execution_count": 8,
          "metadata": {},
          "output_type": "execute_result"
        }
      ],
      "source": [
        "train_tokens.keys()"
      ]
    },
    {
      "cell_type": "code",
      "execution_count": 9,
      "metadata": {
        "id": "9_-UV6_eNmhO"
      },
      "outputs": [
        {
          "name": "stdout",
          "output_type": "stream",
          "text": [
            "[101, 3725, 9216, 8653, 2740, 124, 5187, 1559, 5465, 1545, 1367, 5966, 1580, 9493, 2740, 122, 5539, 1571, 26516, 4859, 1545, 4735, 1116, 21606, 5117, 1477, 3993, 1604, 102, 0, 0, 0, 0, 0, 0, 0, 0, 0, 0, 0, 0, 0, 0, 0, 0, 0, 0, 0, 0, 0, 0, 0, 0, 0, 0, 0, 0, 0, 0, 0, 0, 0, 0, 0, 0, 0, 0, 0, 0, 0, 0, 0, 0, 0, 0, 0, 0, 0, 0, 0, 0, 0, 0, 0, 0, 0, 0, 0, 0, 0, 0, 0, 0, 0, 0, 0, 0]\n",
            "[CLS] Update Total cases 3 017 766 12 879 Current cases 1 915 580 856 Deaths 207 722 468 [SEP] [PAD] [PAD] [PAD] [PAD] [PAD] [PAD] [PAD] [PAD] [PAD] [PAD] [PAD] [PAD] [PAD] [PAD] [PAD] [PAD] [PAD] [PAD] [PAD] [PAD] [PAD] [PAD] [PAD] [PAD] [PAD] [PAD] [PAD] [PAD] [PAD] [PAD] [PAD] [PAD] [PAD] [PAD] [PAD] [PAD] [PAD] [PAD] [PAD] [PAD] [PAD] [PAD] [PAD] [PAD] [PAD] [PAD] [PAD] [PAD] [PAD] [PAD] [PAD] [PAD] [PAD] [PAD] [PAD] [PAD] [PAD] [PAD] [PAD] [PAD] [PAD] [PAD] [PAD] [PAD] [PAD] [PAD] [PAD] [PAD]\n"
          ]
        }
      ],
      "source": [
        "print(train_tokens['input_ids'][0])\n",
        "print(tokenizer.decode(train_tokens['input_ids'][0]))"
      ]
    },
    {
      "cell_type": "markdown",
      "metadata": {
        "id": "nFf6B70IcRk0"
      },
      "source": [
        "\n",
        "\n",
        "---\n",
        "\n"
      ]
    },
    {
      "cell_type": "markdown",
      "metadata": {
        "id": "1vCUvn0CcSfZ"
      },
      "source": [
        "**Step4**: Create a dataset class\n",
        "* Implement a custom TokenData class inheriting from torch.utils.data.Dataset.\n",
        "* Use the train argument to toggle between training (train_tokens, train_Y) and testing datasets (test_tokens, test_Y).\n",
        "* Define __len__ to return the dataset length and __getitem__ to provide tokenized inputs (input_ids, attention_mask) and labels (labels) as tensors.\n",
        "* Ensure the class works correctly by retrieving a sample and verifying the output format."
      ]
    },
    {
      "cell_type": "code",
      "execution_count": 10,
      "metadata": {
        "id": "rI1s_tixN6Cy"
      },
      "outputs": [],
      "source": [
        "class TokenData(Dataset):\n",
        "    def __init__(self, train = False):\n",
        "        if train:\n",
        "            self.text_data = train_X\n",
        "            self.tokens = train_tokens\n",
        "            self.labels = list(train_Y)\n",
        "        else:\n",
        "            self.text_data = test_X\n",
        "            self.tokens = test_tokens\n",
        "            self.labels = list(test_Y)\n",
        "\n",
        "    def __len__(self):\n",
        "            return len(self.text_data)\n",
        "\n",
        "    def __getitem__(self, idx):\n",
        "        sample = {}\n",
        "        for k, v in self.tokens.items():\n",
        "            sample[k] = torch.tensor(v[idx])\n",
        "        sample['labels'] = torch.tensor(self.labels[idx])\n",
        "        return sample"
      ]
    },
    {
      "cell_type": "markdown",
      "metadata": {
        "id": "dBonK0IScVF8"
      },
      "source": [
        "\n",
        "\n",
        "---\n",
        "\n"
      ]
    },
    {
      "cell_type": "markdown",
      "metadata": {
        "id": "unRFzzTecV62"
      },
      "source": [
        "**Step5**: Create Dataloaders\n",
        "\n",
        "* Initialize the `TokenData` class to create train_dataset and test_dataset objects for training and testing datasets.\n",
        "* Set `batch_size=30` and enable shuffling for the training dataset to improve model generalization.\n",
        "* Verify that train_loader and test_loader correctly return batches of tokenized inputs and labels."
      ]
    },
    {
      "cell_type": "code",
      "execution_count": 11,
      "metadata": {
        "id": "Sr5VRe0kN9Ub"
      },
      "outputs": [],
      "source": [
        "batch_size = 30\n",
        "train_dataset = TokenData(train=True)\n",
        "test_dataset = TokenData(train=False)\n",
        "\n",
        "train_loader = DataLoader(train_dataset, batch_size=batch_size, shuffle=True)\n",
        "test_loader = DataLoader(test_dataset, batch_size=batch_size, shuffle=False)"
      ]
    },
    {
      "cell_type": "markdown",
      "metadata": {
        "id": "ewX-Bqb9caOv"
      },
      "source": [
        "\n",
        "\n",
        "---\n",
        "\n"
      ]
    },
    {
      "cell_type": "markdown",
      "metadata": {
        "id": "gZT2z96dcYUg"
      },
      "source": [
        "**Step6:** Define Model\n",
        "*  Use `BertForSequenceClassification` with `bert-base-cased` to load a pre-trained BERT model for sequence classification tasks.\n",
        "* Use `AdamW` optimizer with a learning rate of `1e-5` to fine-tune the model parameters. This optimizer is well-suited for transformer-based models.\n",
        "* Use `CrossEntropyLoss` to compute the loss for multi-class classification (as the dataset contains two classes)."
      ]
    },
    {
      "cell_type": "code",
      "execution_count": 12,
      "metadata": {
        "id": "fRvsF9oJOCBh"
      },
      "outputs": [
        {
          "name": "stderr",
          "output_type": "stream",
          "text": [
            "Some weights of BertForSequenceClassification were not initialized from the model checkpoint at bert-base-cased and are newly initialized: ['classifier.bias', 'classifier.weight']\n",
            "You should probably TRAIN this model on a down-stream task to be able to use it for predictions and inference.\n"
          ]
        }
      ],
      "source": [
        "bert_model =  BertForSequenceClassification.from_pretrained('bert-base-cased')\n",
        "optimizer = optim.Adam(bert_model.parameters(), lr=1e-5)\n",
        "loss_fn = nn.CrossEntropyLoss()"
      ]
    },
    {
      "cell_type": "markdown",
      "metadata": {
        "id": "T3U1ees-cbgA"
      },
      "source": [
        "\n",
        "\n",
        "---\n",
        "\n"
      ]
    },
    {
      "cell_type": "markdown",
      "metadata": {
        "id": "AhJGyZjxccZa"
      },
      "source": [
        "* num_eochs = 3\n",
        "* Use bert_model.to(device) to move the model to a GPU if available, or keep it on the CPU. This ensures efficient computation, especially for large datasets or models like BERT."
      ]
    },
    {
      "cell_type": "code",
      "execution_count": 13,
      "metadata": {
        "id": "J1QoUC-8OOvG"
      },
      "outputs": [
        {
          "data": {
            "text/plain": [
              "BertForSequenceClassification(\n",
              "  (bert): BertModel(\n",
              "    (embeddings): BertEmbeddings(\n",
              "      (word_embeddings): Embedding(28996, 768, padding_idx=0)\n",
              "      (position_embeddings): Embedding(512, 768)\n",
              "      (token_type_embeddings): Embedding(2, 768)\n",
              "      (LayerNorm): LayerNorm((768,), eps=1e-12, elementwise_affine=True)\n",
              "      (dropout): Dropout(p=0.1, inplace=False)\n",
              "    )\n",
              "    (encoder): BertEncoder(\n",
              "      (layer): ModuleList(\n",
              "        (0-11): 12 x BertLayer(\n",
              "          (attention): BertAttention(\n",
              "            (self): BertSdpaSelfAttention(\n",
              "              (query): Linear(in_features=768, out_features=768, bias=True)\n",
              "              (key): Linear(in_features=768, out_features=768, bias=True)\n",
              "              (value): Linear(in_features=768, out_features=768, bias=True)\n",
              "              (dropout): Dropout(p=0.1, inplace=False)\n",
              "            )\n",
              "            (output): BertSelfOutput(\n",
              "              (dense): Linear(in_features=768, out_features=768, bias=True)\n",
              "              (LayerNorm): LayerNorm((768,), eps=1e-12, elementwise_affine=True)\n",
              "              (dropout): Dropout(p=0.1, inplace=False)\n",
              "            )\n",
              "          )\n",
              "          (intermediate): BertIntermediate(\n",
              "            (dense): Linear(in_features=768, out_features=3072, bias=True)\n",
              "            (intermediate_act_fn): GELUActivation()\n",
              "          )\n",
              "          (output): BertOutput(\n",
              "            (dense): Linear(in_features=3072, out_features=768, bias=True)\n",
              "            (LayerNorm): LayerNorm((768,), eps=1e-12, elementwise_affine=True)\n",
              "            (dropout): Dropout(p=0.1, inplace=False)\n",
              "          )\n",
              "        )\n",
              "      )\n",
              "    )\n",
              "    (pooler): BertPooler(\n",
              "      (dense): Linear(in_features=768, out_features=768, bias=True)\n",
              "      (activation): Tanh()\n",
              "    )\n",
              "  )\n",
              "  (dropout): Dropout(p=0.1, inplace=False)\n",
              "  (classifier): Linear(in_features=768, out_features=2, bias=True)\n",
              ")"
            ]
          },
          "execution_count": 13,
          "metadata": {},
          "output_type": "execute_result"
        }
      ],
      "source": [
        "num_epochs = 3\n",
        "bert_model.to(device) # Transfer model to GPU if available"
      ]
    },
    {
      "cell_type": "markdown",
      "metadata": {
        "id": "7weERW42ckLw"
      },
      "source": [
        "\n",
        "\n",
        "---\n",
        "\n"
      ]
    },
    {
      "cell_type": "markdown",
      "metadata": {
        "id": "UY0aqY4Qcf_y"
      },
      "source": [
        "**Step7:** Model Training"
      ]
    },
    {
      "cell_type": "code",
      "execution_count": 14,
      "metadata": {
        "id": "yN-7EqSpOZvB"
      },
      "outputs": [
        {
          "name": "stdout",
          "output_type": "stream",
          "text": [
            "Epoch 1/3 - Training Loss: 0.4413\n",
            "Epoch 2/3 - Training Loss: 0.2082\n",
            "Epoch 3/3 - Training Loss: 0.1265\n"
          ]
        }
      ],
      "source": [
        "for epoch in range(num_epochs):\n",
        "    bert_model.train()\n",
        "    total_train_loss = 0.0  # Initialize total loss for each epoch\n",
        "\n",
        "    for i, batch in enumerate(train_loader):\n",
        "        batch = {k: v.to(device) for k, v in batch.items()}\n",
        "\n",
        "        # Set gradients to zero\n",
        "        optimizer.zero_grad()\n",
        "\n",
        "        # Pass data to the model\n",
        "        outputs = bert_model(input_ids=batch['input_ids'], attention_mask=batch['attention_mask'])\n",
        "\n",
        "        # Get logits and calculate the loss\n",
        "        labels = batch['labels']\n",
        "        pred = outputs.logits\n",
        "        loss = loss_fn(pred,labels)\n",
        "\n",
        "        # Backpropagation\n",
        "        loss.backward()\n",
        "\n",
        "        # Optimizing model parameters\n",
        "        optimizer.step()\n",
        "\n",
        "        # Accumulate the loss for the epoch\n",
        "        total_train_loss += loss.item()\n",
        "\n",
        "    # Calculate and log the average loss for the epoch\n",
        "    avg_train_loss = total_train_loss / len(train_loader)\n",
        "    print(f\"Epoch {epoch + 1}/{num_epochs} - Training Loss: {avg_train_loss:.4f}\")\n"
      ]
    },
    {
      "cell_type": "markdown",
      "metadata": {
        "id": "JuK0Fa9ocle6"
      },
      "source": [
        "\n",
        "\n",
        "---\n",
        "\n"
      ]
    },
    {
      "cell_type": "markdown",
      "metadata": {
        "id": "aj8C8_-RcmQI"
      },
      "source": [
        "**Step8:** Model Evaluation"
      ]
    },
    {
      "cell_type": "code",
      "execution_count": 15,
      "metadata": {
        "id": "TK-wiYwBVeNx"
      },
      "outputs": [
        {
          "name": "stdout",
          "output_type": "stream",
          "text": [
            "Test Set - Loss: 0.2564, Accuracy: 90.17%\n"
          ]
        }
      ],
      "source": [
        "# Set model to evaluation mode\n",
        "bert_model.eval()\n",
        "\n",
        "# Variables for tracking accuracy and loss\n",
        "correct = 0\n",
        "total = 0\n",
        "total_test_loss = 0.0\n",
        "all_preds = []\n",
        "all_labels = []\n",
        "\n",
        "# Disable gradient computation during testing\n",
        "with torch.no_grad():\n",
        "    for batch in test_loader:\n",
        "        batch = {k: v.to(device) for k, v in batch.items()}\n",
        "\n",
        "        # Forward pass\n",
        "        outputs = bert_model(input_ids=batch['input_ids'], attention_mask=batch['attention_mask'])\n",
        "\n",
        "        # Get logits\n",
        "        logits = outputs.logits\n",
        "\n",
        "        # Calculate loss\n",
        "        labels = batch['labels']\n",
        "        loss = loss_fn(logits,labels)\n",
        "        total_test_loss += loss.item()\n",
        "\n",
        "        # Get predictions\n",
        "        preds = logits.argmax(dim=1)\n",
        "\n",
        "        # Update the correct count and total number of samples\n",
        "        correct += (preds == batch['labels']).sum().item()\n",
        "        total += batch['labels'].size(0)\n",
        "\n",
        "        # Store predictions and labels for confusion matrix\n",
        "        all_preds.extend(preds.cpu().numpy())\n",
        "        all_labels.extend(batch['labels'].cpu().numpy())\n",
        "\n",
        "# Calculate the average test loss\n",
        "avg_test_loss = total_test_loss / len(test_loader)\n",
        "\n",
        "# Calculate overall accuracy\n",
        "accuracy = (correct / total) * 100\n",
        "\n",
        "# Print overall results\n",
        "print(f\"Test Set - Loss: {avg_test_loss:.4f}, Accuracy: {accuracy:.2f}%\")"
      ]
    },
    {
      "cell_type": "markdown",
      "metadata": {
        "id": "WN_IoRS1Fcqx"
      },
      "source": [
        "## Visualize the Confusion Matrix"
      ]
    },
    {
      "cell_type": "code",
      "execution_count": 16,
      "metadata": {},
      "outputs": [
        {
          "data": {
            "image/png": "[encoded data removed]",
            "text/plain": [
              "<Figure size 600x500 with 2 Axes>"
            ]
          },
          "metadata": {},
          "output_type": "display_data"
        },
        {
          "data": {
            "image/png": "[encoded data removed]",
            "text/plain": [
              "<Figure size 600x500 with 2 Axes>"
            ]
          },
          "metadata": {},
          "output_type": "display_data"
        }
      ],
      "source": [
        "import seaborn as sns\n",
        "\n",
        "# Compute the confusion matrix\n",
        "cm = confusion_matrix(all_labels, all_preds)\n",
        "\n",
        "# Plot the confusion matrix\n",
        "plt.figure(figsize=(6,5))\n",
        "sns.heatmap(cm, annot=True, fmt=\"d\", cmap=\"Blues\", xticklabels=[\"Class 0\", \"Class 1\"], yticklabels=[\"Class 0\", \"Class 1\"])\n",
        "plt.xlabel(\"Predicted Labels\")\n",
        "plt.ylabel(\"True Labels\")\n",
        "plt.title(\"Confusion Matrix\")\n",
        "plt.show()\n",
        "\n",
        "# Compute the confusion matrix\n",
        "cm = confusion_matrix(all_labels, all_preds)\n",
        "\n",
        "# Plot the confusion matrix\n",
        "plt.figure(figsize=(6,5))\n",
        "sns.heatmap(cm, annot=True, fmt=\"d\", cmap=\"Blues\", xticklabels=[\"Class 0\", \"Class 1\"], yticklabels=[\"Class 0\", \"Class 1\"])\n",
        "plt.xlabel(\"Predicted Labels\")\n",
        "plt.ylabel(\"True Labels\")\n",
        "plt.title(\"Confusion Matrix\")\n",
        "plt.show()\n"
      ]
    },
    {
      "cell_type": "markdown",
      "metadata": {
        "id": "EtBWNt8ZEu_1"
      },
      "source": [
        "\n",
        "\n",
        "---\n",
        "\n"
      ]
    },
    {
      "cell_type": "markdown",
      "metadata": {
        "id": "Fxk8JzEWLJvh"
      },
      "source": [
        "**Step9**: Inference with new Tweets\n",
        "\n",
        "* Run this inference code to predict the output for test_tweets"
      ]
    },
    {
      "cell_type": "code",
      "execution_count": null,
      "metadata": {
        "id": "qIV_feNNLO9X"
      },
      "outputs": [],
      "source": [
        "# Test tweets\n",
        "test_tweets = [\n",
        "    \"The football match last night was absolutely thrilling!\",\n",
        "    \"Vaccination centers are working overtime to meet demand.\",\n",
        "    \"Can't believe my favorite artist is coming to my city for a concert!\",\n",
        "    \"WHO recommends wearing masks in crowded places to prevent the spread of COVID-19.\",\n",
        "    \"The stock market saw a major rise today with tech companies leading the way.\"\n",
        "]\n",
        "\n",
        "# Predict function for a single tweet\n",
        "def predict_tweet(tweet_text):\n",
        "    # Tokenize\n",
        "    tokens = tokenizer(tweet_text, padding=True, truncation=True, return_tensors='pt')\n",
        "    tokens = {k: v.to(device) for k, v in tokens.items()}\n",
        "\n",
        "    # Predict\n",
        "    bert_model.eval()\n",
        "    with torch.no_grad():\n",
        "        outputs = bert_model(**tokens)\n",
        "        probs = torch.softmax(outputs.logits, dim=1)\n",
        "        prediction = torch.argmax(probs, dim=1)\n",
        "\n",
        "    return {\n",
        "        'text': tweet_text,\n",
        "        'is_covid': bool(prediction.item()),\n",
        "        'confidence': probs[0][prediction[0]].item() * 100\n",
        "    }\n",
        "\n",
        "# Make predictions for test tweets\n",
        "def final_predic():\n",
        "    print(\"Sample Tweet Predictions:\\n\")\n",
        "    for tweet in test_tweets:\n",
        "        result = predict_tweet(tweet)\n",
        "        print(f\"Tweet: {result['text']}\")\n",
        "        print(f\"Prediction: {'COVID-related' if result['is_covid'] else 'Not COVID-related'}\")\n",
        "        print(f\"Confidence: {result['confidence']:.2f}%\")\n",
        "        print(\"-\" * 50 + \"\\n\")"
      ]
    },
    {
      "cell_type": "code",
      "execution_count": 21,
      "metadata": {},
      "outputs": [
        {
          "name": "stdout",
          "output_type": "stream",
          "text": [
            "Sample Tweet Predictions:\n",
            "\n",
            "Tweet: The number of COVID-19 cases is rising again in several countries.\n",
            "Prediction: COVID-related\n",
            "Confidence: 99.08%\n",
            "--------------------------------------------------\n",
            "\n",
            "Tweet: The football match last night was absolutely thrilling!\n",
            "Prediction: Not COVID-related\n",
            "Confidence: 96.30%\n",
            "--------------------------------------------------\n",
            "\n",
            "Tweet: Vaccination centers are working overtime to meet demand.\n",
            "Prediction: COVID-related\n",
            "Confidence: 98.77%\n",
            "--------------------------------------------------\n",
            "\n",
            "Tweet: Can't believe my favorite artist is coming to my city for a concert!\n",
            "Prediction: Not COVID-related\n",
            "Confidence: 55.49%\n",
            "--------------------------------------------------\n",
            "\n",
            "Tweet: WHO recommends wearing masks in crowded places to prevent the spread of COVID-19.\n",
            "Prediction: COVID-related\n",
            "Confidence: 98.81%\n",
            "--------------------------------------------------\n",
            "\n",
            "Tweet: The stock market saw a major rise today with tech companies leading the way.\n",
            "Prediction: COVID-related\n",
            "Confidence: 93.48%\n",
            "--------------------------------------------------\n",
            "\n"
          ]
        }
      ],
      "source": [
        "final_predic()"
      ]
    },
    {
      "cell_type": "code",
      "execution_count": 22,
      "metadata": {},
      "outputs": [
        {
          "name": "stdout",
          "output_type": "stream",
          "text": [
            "Sample Tweet Predictions:\n",
            "\n",
            "Tweet: Wearing a mask helps reduce the spread of airborne diseases like COVID-19 and the flu.\n",
            "Prediction: COVID-related\n",
            "Confidence: 98.75%\n",
            "--------------------------------------------------\n",
            "\n",
            "Tweet: I'm feeling sick today. I hope it's just a normal flu and not COVID!\n",
            "Prediction: COVID-related\n",
            "Confidence: 63.24%\n",
            "--------------------------------------------------\n",
            "\n",
            "Tweet: The NBA game had a reduced audience due to pandemic restrictions.\n",
            "Prediction: COVID-related\n",
            "Confidence: 73.16%\n",
            "--------------------------------------------------\n",
            "\n",
            "Tweet: More companies are allowing work-from-home options post-pandemic.\n",
            "Prediction: COVID-related\n",
            "Confidence: 98.96%\n",
            "--------------------------------------------------\n",
            "\n",
            "Tweet: Travel restrictions have been eased, but vaccination proof is still required.\n",
            "Prediction: COVID-related\n",
            "Confidence: 98.10%\n",
            "--------------------------------------------------\n",
            "\n"
          ]
        }
      ],
      "source": [
        "test_tweets = [\n",
        "\"Wearing a mask helps reduce the spread of airborne diseases like COVID-19 and the flu.\",\n",
        "\"I'm feeling sick today. I hope it's just a normal flu and not COVID!\",\n",
        "\"The NBA game had a reduced audience due to pandemic restrictions.\",\n",
        "\"More companies are allowing work-from-home options post-pandemic.\",\n",
        "\"Travel restrictions have been eased, but vaccination proof is still required.\",\n",
        "]\n",
        "final_predic()"
      ]
    },
    {
      "cell_type": "markdown",
      "metadata": {},
      "source": [
        "## Thank you"
      ]
    },
    {
      "cell_type": "code",
      "execution_count": null,
      "metadata": {},
      "outputs": [],
      "source": []
    }
  ],
  "metadata": {
    "accelerator": "GPU",
    "colab": {
      "gpuType": "T4",
      "provenance": []
    },
    "kernelspec": {
      "display_name": "Python 3",
      "name": "python3"
    },
    "language_info": {
      "codemirror_mode": {
        "name": "ipython",
        "version": 3
      },
      "file_extension": ".py",
      "mimetype": "text/x-python",
      "name": "python",
      "nbconvert_exporter": "python",
      "pygments_lexer": "ipython3",
      "version": "3.12.0"
    }
  },
  "nbformat": 4,
  "nbformat_minor": 0
}
